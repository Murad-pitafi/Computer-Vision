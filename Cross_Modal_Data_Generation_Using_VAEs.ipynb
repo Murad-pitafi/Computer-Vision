{
  "nbformat": 4,
  "nbformat_minor": 0,
  "metadata": {
    "colab": {
      "provenance": [],
      "gpuType": "T4",
      "authorship_tag": "ABX9TyNUmalpYZGbqF6QinoqxmXU",
      "include_colab_link": true
    },
    "kernelspec": {
      "name": "python3",
      "display_name": "Python 3"
    },
    "language_info": {
      "name": "python"
    },
    "accelerator": "GPU"
  },
  "cells": [
    {
      "cell_type": "markdown",
      "metadata": {
        "id": "view-in-github",
        "colab_type": "text"
      },
      "source": [
        "<a href=\"https://colab.research.google.com/github/Murad-pitafi/Computer-Vision/blob/main/Cross_Modal_Data_Generation_Using_VAEs.ipynb\" target=\"_parent\"><img src=\"https://colab.research.google.com/assets/colab-badge.svg\" alt=\"Open In Colab\"/></a>"
      ]
    },
    {
      "cell_type": "code",
      "execution_count": 1,
      "metadata": {
        "id": "71974wIOlbZW"
      },
      "outputs": [],
      "source": [
        "import torch\n",
        "from torch import nn, optim\n",
        "from torchvision import datasets, transforms, models\n",
        "from torch.utils.data import DataLoader\n",
        "import torchvision.transforms as T\n",
        "from transformers import GPT2LMHeadModel, GPT2Tokenizer\n",
        "from transformers import AdamW\n",
        "from PIL import Image\n",
        "import random\n"
      ]
    },
    {
      "cell_type": "code",
      "source": [
        "transform = T.Compose([\n",
        "    T.Resize((224, 224)),\n",
        "    T.ToTensor()\n",
        "])\n",
        "\n",
        "coco_data = datasets.CocoDetection(root='path_to_coco_images', annFile='path_to_annotations', transform=transform)\n",
        "train_loader = DataLoader(coco_data, batch_size=16, shuffle=True)\n",
        "\n",
        "tokenizer = GPT2Tokenizer.from_pretrained('gpt2')\n",
        "tokenizer.pad_token = tokenizer.eos_token\n",
        "\n",
        "\n",
        "# you can update the path , because coco dataset is large just replace it"
      ],
      "metadata": {
        "id": "6nZdaTAtlgCJ"
      },
      "execution_count": 3,
      "outputs": []
    },
    {
      "cell_type": "code",
      "source": [
        "class ImageEncoder(nn.Module):\n",
        "    def __init__(self, latent_dim=256):\n",
        "        super(ImageEncoder, self).__init__()\n",
        "        self.cnn = models.resnet18(pretrained=True)\n",
        "        self.cnn.fc = nn.Linear(self.cnn.fc.in_features, latent_dim)\n",
        "\n",
        "    def forward(self, x):\n",
        "        return self.cnn(x)\n"
      ],
      "metadata": {
        "id": "_ZHck7FNlmxG"
      },
      "execution_count": null,
      "outputs": []
    },
    {
      "cell_type": "code",
      "source": [
        "class TextDecoder(nn.Module):\n",
        "    def __init__(self, latent_dim=256):\n",
        "        super(TextDecoder, self).__init__()\n",
        "        self.model = GPT2LMHeadModel.from_pretrained('gpt2')\n",
        "        self.fc = nn.Linear(latent_dim, self.model.config.n_embd)\n",
        "\n",
        "    def forward(self, latent_vec, input_ids):\n",
        "        context = self.fc(latent_vec).unsqueeze(1)\n",
        "        return self.model(input_ids=input_ids, encoder_hidden_states=context, labels=input_ids)\n"
      ],
      "metadata": {
        "id": "j7vQ_LRFlnqy"
      },
      "execution_count": null,
      "outputs": []
    },
    {
      "cell_type": "code",
      "source": [
        "class CrossModalVAE(nn.Module):\n",
        "    def __init__(self, latent_dim=256):\n",
        "        super(CrossModalVAE, self).__init__()\n",
        "        self.encoder = ImageEncoder(latent_dim)\n",
        "        self.decoder = TextDecoder(latent_dim)\n",
        "\n",
        "    def forward(self, images, captions):\n",
        "        latent = self.encoder(images)\n",
        "        output = self.decoder(latent, captions)\n",
        "        return output\n"
      ],
      "metadata": {
        "id": "EoUbgmKRlojD"
      },
      "execution_count": null,
      "outputs": []
    },
    {
      "cell_type": "code",
      "source": [
        "latent_dim = 256\n",
        "model = CrossModalVAE(latent_dim=latent_dim)\n",
        "optimizer = AdamW(model.parameters(), lr=5e-5)\n",
        "criterion = nn.CrossEntropyLoss()\n"
      ],
      "metadata": {
        "id": "gATE8NPHlp6y"
      },
      "execution_count": null,
      "outputs": []
    },
    {
      "cell_type": "code",
      "source": [
        "epochs = 5\n",
        "for epoch in range(epochs):\n",
        "    model.train()\n",
        "    total_loss = 0\n",
        "    for images, targets in train_loader:\n",
        "        images = images.to('cuda')\n",
        "        captions = [random.choice(ann['caption']) for ann in targets]\n",
        "        encoded_caps = tokenizer(captions, return_tensors='pt', padding=True, truncation=True)\n",
        "        input_ids = encoded_caps.input_ids.to('cuda')\n",
        "\n",
        "        optimizer.zero_grad()\n",
        "        output = model(images, input_ids)\n",
        "        loss = output.loss\n",
        "        loss.backward()\n",
        "        optimizer.step()\n",
        "\n",
        "        total_loss += loss.item()\n",
        "    print(f'Epoch {epoch+1}, Loss: {total_loss / len(train_loader):.4f}')\n"
      ],
      "metadata": {
        "id": "OKUWlCaqlrJT"
      },
      "execution_count": null,
      "outputs": []
    },
    {
      "cell_type": "code",
      "source": [
        "model.eval()\n",
        "test_image = Image.open('path_to_test_image').convert('RGB')\n",
        "test_image = transform(test_image).unsqueeze(0).to('cuda')\n",
        "\n",
        "with torch.no_grad():\n",
        "    latent = model.encoder(test_image)\n",
        "    generated = model.decoder.model.generate(latent)\n",
        "\n",
        "generated_caption = tokenizer.decode(generated[0], skip_special_tokens=True)\n",
        "print(f'Generated Caption: {generated_caption}')\n"
      ],
      "metadata": {
        "id": "63cUfH93lsa9"
      },
      "execution_count": null,
      "outputs": []
    },
    {
      "cell_type": "code",
      "source": [],
      "metadata": {
        "id": "dq-HKuc3lt9L"
      },
      "execution_count": null,
      "outputs": []
    }
  ]
}