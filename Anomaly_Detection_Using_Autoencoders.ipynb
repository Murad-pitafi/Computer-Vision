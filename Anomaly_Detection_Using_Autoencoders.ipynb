{
  "nbformat": 4,
  "nbformat_minor": 0,
  "metadata": {
    "colab": {
      "provenance": [],
      "authorship_tag": "ABX9TyNjibIHgMFRuMxt+/t2mIeg",
      "include_colab_link": true
    },
    "kernelspec": {
      "name": "python3",
      "display_name": "Python 3"
    },
    "language_info": {
      "name": "python"
    }
  },
  "cells": [
    {
      "cell_type": "markdown",
      "metadata": {
        "id": "view-in-github",
        "colab_type": "text"
      },
      "source": [
        "<a href=\"https://colab.research.google.com/github/Murad-pitafi/Computer-Vision/blob/main/Anomaly_Detection_Using_Autoencoders.ipynb\" target=\"_parent\"><img src=\"https://colab.research.google.com/assets/colab-badge.svg\" alt=\"Open In Colab\"/></a>"
      ]
    },
    {
      "cell_type": "code",
      "execution_count": 1,
      "metadata": {
        "id": "DAV7FwhRiY3E"
      },
      "outputs": [],
      "source": [
        "import torch\n",
        "from torch import nn, optim\n",
        "from torch.utils.data import DataLoader, Dataset\n",
        "import numpy as np\n",
        "from sklearn.metrics import precision_score, recall_score, f1_score\n",
        "from sklearn.model_selection import train_test_split\n"
      ]
    },
    {
      "cell_type": "code",
      "source": [
        "class SyntheticAnomalyDataset(Dataset):\n",
        "    def __init__(self, n_samples=1000, anomaly_ratio=0.1):\n",
        "        self.normal_data = np.random.normal(0, 1, (int(n_samples * (1 - anomaly_ratio)), 20))\n",
        "        self.anomalous_data = np.random.uniform(-10, 10, (int(n_samples * anomaly_ratio), 20))\n",
        "        self.data = np.vstack((self.normal_data, self.anomalous_data))\n",
        "        self.labels = np.hstack((np.zeros(len(self.normal_data)), np.ones(len(self.anomalous_data))))\n",
        "\n",
        "    def __len__(self):\n",
        "        return len(self.data)\n",
        "\n",
        "    def __getitem__(self, idx):\n",
        "        return torch.tensor(self.data[idx], dtype=torch.float32), self.labels[idx]\n",
        "\n",
        "dataset = SyntheticAnomalyDataset()\n",
        "train_data, test_data = train_test_split(dataset, test_size=0.3, random_state=42)\n",
        "train_loader = DataLoader(train_data, batch_size=32, shuffle=True)\n",
        "test_loader = DataLoader(test_data, batch_size=32, shuffle=False)\n"
      ],
      "metadata": {
        "id": "ZnAq927fjDkL"
      },
      "execution_count": 2,
      "outputs": []
    },
    {
      "cell_type": "code",
      "source": [
        "class Autoencoder(nn.Module):\n",
        "    def __init__(self, input_dim=20, latent_dim=8):\n",
        "        super(Autoencoder, self).__init__()\n",
        "        self.encoder = nn.Sequential(\n",
        "            nn.Linear(input_dim, 16),\n",
        "            nn.ReLU(),\n",
        "            nn.Linear(16, latent_dim)\n",
        "        )\n",
        "        self.decoder = nn.Sequential(\n",
        "            nn.Linear(latent_dim, 16),\n",
        "            nn.ReLU(),\n",
        "            nn.Linear(16, input_dim)\n",
        "        )\n",
        "\n",
        "    def forward(self, x):\n",
        "        encoded = self.encoder(x)\n",
        "        decoded = self.decoder(encoded)\n",
        "        return decoded\n"
      ],
      "metadata": {
        "id": "garHnts-jFiE"
      },
      "execution_count": 3,
      "outputs": []
    },
    {
      "cell_type": "code",
      "source": [
        "autoencoder = Autoencoder()\n",
        "criterion = nn.MSELoss()\n",
        "optimizer = optim.Adam(autoencoder.parameters(), lr=0.001)\n"
      ],
      "metadata": {
        "id": "tZqphWLtjG_h"
      },
      "execution_count": 4,
      "outputs": []
    },
    {
      "cell_type": "code",
      "source": [
        "epochs = 20\n",
        "for epoch in range(epochs):\n",
        "    autoencoder.train()\n",
        "    train_loss = 0\n",
        "    for data, labels in train_loader:\n",
        "        if labels.sum() == 0:  # Only train on normal samples\n",
        "            optimizer.zero_grad()\n",
        "            recon = autoencoder(data)\n",
        "            loss = criterion(recon, data)\n",
        "            loss.backward()\n",
        "            optimizer.step()\n",
        "            train_loss += loss.item()\n",
        "    print(f'Epoch {epoch+1}, Loss: {train_loss/len(train_loader):.4f}')\n"
      ],
      "metadata": {
        "colab": {
          "base_uri": "https://localhost:8080/"
        },
        "id": "1Al0faSijIzq",
        "outputId": "12170cfb-d76e-42e7-cf69-3db312019f4c"
      },
      "execution_count": 5,
      "outputs": [
        {
          "output_type": "stream",
          "name": "stdout",
          "text": [
            "Epoch 1, Loss: 0.0000\n",
            "Epoch 2, Loss: 0.0417\n",
            "Epoch 3, Loss: 0.0494\n",
            "Epoch 4, Loss: 0.0955\n",
            "Epoch 5, Loss: 0.0491\n",
            "Epoch 6, Loss: 0.0000\n",
            "Epoch 7, Loss: 0.0452\n",
            "Epoch 8, Loss: 0.0423\n",
            "Epoch 9, Loss: 0.0427\n",
            "Epoch 10, Loss: 0.0000\n",
            "Epoch 11, Loss: 0.0438\n",
            "Epoch 12, Loss: 0.0861\n",
            "Epoch 13, Loss: 0.0839\n",
            "Epoch 14, Loss: 0.0000\n",
            "Epoch 15, Loss: 0.0437\n",
            "Epoch 16, Loss: 0.0458\n",
            "Epoch 17, Loss: 0.0452\n",
            "Epoch 18, Loss: 0.0441\n",
            "Epoch 19, Loss: 0.0000\n",
            "Epoch 20, Loss: 0.0870\n"
          ]
        }
      ]
    },
    {
      "cell_type": "code",
      "source": [
        "autoencoder.eval()\n",
        "reconstruction_errors = []\n",
        "true_labels = []\n",
        "\n",
        "with torch.no_grad():\n",
        "    for data, labels in test_loader:\n",
        "        recon = autoencoder(data)\n",
        "        loss = ((recon - data) ** 2).mean(dim=1)\n",
        "        reconstruction_errors.extend(loss.numpy())\n",
        "        true_labels.extend(labels.numpy())\n"
      ],
      "metadata": {
        "id": "pJvWS3zbjLg8"
      },
      "execution_count": 6,
      "outputs": []
    },
    {
      "cell_type": "code",
      "source": [
        "threshold = np.percentile(reconstruction_errors, 95)  # 95th percentile as threshold\n",
        "predicted_labels = [1 if error > threshold else 0 for error in reconstruction_errors]\n"
      ],
      "metadata": {
        "id": "7lzV2g0ojNl7"
      },
      "execution_count": 7,
      "outputs": []
    },
    {
      "cell_type": "code",
      "source": [
        "precision = precision_score(true_labels, predicted_labels)\n",
        "recall = recall_score(true_labels, predicted_labels)\n",
        "f1 = f1_score(true_labels, predicted_labels)\n",
        "\n",
        "print(f'Precision: {precision:.4f}')\n",
        "print(f'Recall: {recall:.4f}')\n",
        "print(f'F1-score: {f1:.4f}')\n"
      ],
      "metadata": {
        "colab": {
          "base_uri": "https://localhost:8080/"
        },
        "id": "433mf3iRjQ0d",
        "outputId": "6cfcc833-f389-4e4a-9391-aeb527805de2"
      },
      "execution_count": 8,
      "outputs": [
        {
          "output_type": "stream",
          "name": "stdout",
          "text": [
            "Precision: 1.0000\n",
            "Recall: 0.4286\n",
            "F1-score: 0.6000\n"
          ]
        }
      ]
    }
  ]
}